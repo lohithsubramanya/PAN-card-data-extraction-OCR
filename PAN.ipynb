{
 "cells": [
  {
   "cell_type": "code",
   "execution_count": 11,
   "metadata": {},
   "outputs": [],
   "source": [
    "import pytesseract\n",
    "pytesseract.pytesseract.tesseract_cmd=r\"C:\\\\Program Files\\\\Tesseract-OCR\\\\tesseract.exe\"\n",
    "import cv2\n",
    "from PIL import Image\n",
    "import tempfile\n",
    "import imutils\n",
    "import numpy as np\n",
    "import  matplotlib.pyplot as plt\n",
    "from textblob import TextBlob\n",
    "from ipynb.fs.defs .Text_Extraction import image_resize,set_image_dpi,remove_noise_and_smooth,text_rotation,croping_image,order_points,four_point_transform,get_text,sentiment_analysis,word_cloud,send_mail,text_2_speech\n",
    "import smtplib\n",
    "import os"
   ]
  },
  {
   "cell_type": "code",
   "execution_count": 12,
   "metadata": {},
   "outputs": [],
   "source": [
    "img=cv2.imread(\"pan_q.jpeg\")\n",
    "img1=image_resize(img)\n",
    "cv2.imshow(\"img\",img1)\n",
    "cv2.waitKey(0)\n",
    "cv2.destroyAllWindows()"
   ]
  },
  {
   "cell_type": "code",
   "execution_count": 13,
   "metadata": {},
   "outputs": [],
   "source": [
    "dpi_image=set_image_dpi(\"pan_q.jpeg\")\n",
    "cv2.imshow(\"example\",dpi_image)\n",
    "cv2.waitKey(0)\n",
    "cv2.destroyAllWindows()"
   ]
  },
  {
   "cell_type": "code",
   "execution_count": 15,
   "metadata": {},
   "outputs": [
    {
     "name": "stdout",
     "output_type": "stream",
     "text": [
      "Do you need to crop the image ?(Y/N)n\n",
      "Image is considered to be croped\n"
     ]
    }
   ],
   "source": [
    "crop=str(input(\"Do you need to crop the image ?(Y/N)\"))\n",
    "if crop==\"Y\" or crop==\"y\":\n",
    "    screenCnt =0\n",
    "    croped_img=croping_image(dpi_image)\n",
    "    cv2.imshow(\"dpi_image\",croped_img)\n",
    "    cv2.waitKey(0)\n",
    "    cv2.destroyAllWindows()\n",
    "    save=str(input(\"Do you want to save the croped image ?(Y/N)\"))\n",
    "    if save==\"y\" or save==\"Y\":\n",
    "        croped_img=croped_img\n",
    "    else:\n",
    "        croped_img=dpi_image\n",
    "        \n",
    "else:\n",
    "    print(\"Image is considered to be croped\")\n",
    "    croped_img=dpi_image\n",
    "croped_img=image_resize(croped_img,750,750)\n",
    "cv2.imshow(\"dpi_image\",croped_img)\n",
    "cv2.waitKey(0)\n",
    "cv2.destroyAllWindows()\n"
   ]
  },
  {
   "cell_type": "code",
   "execution_count": 16,
   "metadata": {},
   "outputs": [
    {
     "name": "stdout",
     "output_type": "stream",
     "text": [
      "Do you need to rotate the text?(Y/N)n\n",
      "Image is considered to be in straight text\n"
     ]
    }
   ],
   "source": [
    "rotate=str(input(\"Do you need to rotate the text?(Y/N)\"))\n",
    "if rotate==\"Y\" or rotate==\"y\":\n",
    "    rotated_img=text_rotation(croped_img)\n",
    "else:\n",
    "    print(\"Image is considered to be in straight text\")\n",
    "    rotated_img=croped_img\n",
    "cv2.imshow(\"dpi_image\",rotated_img)\n",
    "cv2.waitKey(0)\n",
    "cv2.destroyAllWindows()"
   ]
  },
  {
   "cell_type": "code",
   "execution_count": 6,
   "metadata": {},
   "outputs": [],
   "source": [
    "# clear_image=remove_noise_and_smooth(rotated_img)\n",
    "# cv2.imshow('Image', clear_image)\n",
    "# cv2.waitKey(0)\n",
    "# cv2.destroyAllWindows()\n"
   ]
  },
  {
   "cell_type": "code",
   "execution_count": 7,
   "metadata": {},
   "outputs": [],
   "source": [
    "# text=pytesseract.image_to_string(clear_image,lang='eng')\n",
    "# print(text)"
   ]
  },
  {
   "cell_type": "code",
   "execution_count": 8,
   "metadata": {},
   "outputs": [],
   "source": [
    "# img=gray\n",
    "# block_size = 5\n",
    "# constant = 2\n",
    "# th1 = cv2.adaptiveThreshold(img, 255, cv2.ADAPTIVE_THRESH_MEAN_C, cv2.THRESH_BINARY, block_size, constant)\n",
    "# th2 = cv2.adaptiveThreshold (img, 255, cv2.ADAPTIVE_THRESH_GAUSSIAN_C, cv2.THRESH_BINARY, block_size, constant)\n",
    "    \n",
    "# output = [img, th1, th2]\n",
    "    \n",
    "# titles = ['Original', 'Mean Adaptive', 'Gaussian Adaptive']\n",
    "    \n",
    "# for i in range(3):\n",
    "#     plt.subplot(1, 3, i+1)\n",
    "#     plt.imshow(output[i], cmap='gray')\n",
    "#     plt.title(titles[i])\n",
    "#     plt.xticks([])\n",
    "#     plt.yticks([])\n",
    "\n",
    "#     plt.show()  \n",
    "\n",
    "# plt.show()  \n"
   ]
  },
  {
   "cell_type": "code",
   "execution_count": null,
   "metadata": {},
   "outputs": [],
   "source": []
  },
  {
   "cell_type": "code",
   "execution_count": 18,
   "metadata": {},
   "outputs": [
    {
     "name": "stdout",
     "output_type": "stream",
     "text": [
      "ANKITA AGARWAL\n",
      "ANAND PRAKASH AGARWAL\n",
      "\n",
      "18/08/1986\n",
      "Permanent Account Number\n",
      "\n",
      "ALBPA3140K\n",
      "\n",
      "Signature\n"
     ]
    }
   ],
   "source": [
    "\n",
    "image = imutils.resize(rotated_img,1024,665)\n",
    "cv2.imshow('image0',image)\n",
    "cv2.waitKey(0)\n",
    "\n",
    "\n",
    "\n",
    "    \n",
    "gray = cv2.cvtColor(image,cv2.COLOR_BGR2GRAY)\n",
    "gray = cv2.threshold(gray,120, 255,cv2.THRESH_BINARY)[1]\n",
    "gray = cv2.medianBlur(gray, 3)\n",
    "cv2.imshow('gray',gray)\n",
    "cv2.waitKey(0)\n",
    "cv2.destroyAllWindows()\n",
    "\n",
    "text=pytesseract.image_to_string(gray,lang='eng')\n",
    "print(text)\n",
    "# print(\"Name: \",strs[0])\n",
    "# print(\"Course: \",strs[1])\n",
    "# print(\"Department: \",strs[2])\n",
    "# print(\"Roll Number: \",strs[3])"
   ]
  },
  {
   "cell_type": "code",
   "execution_count": 19,
   "metadata": {},
   "outputs": [],
   "source": [
    "# t=text.rsplit(\"INDIA\")\n",
    "# t"
   ]
  },
  {
   "cell_type": "code",
   "execution_count": 28,
   "metadata": {},
   "outputs": [],
   "source": [
    "details=text.split(\"\\n\")"
   ]
  },
  {
   "cell_type": "code",
   "execution_count": 29,
   "metadata": {},
   "outputs": [],
   "source": [
    "name=details[0]\n",
    "father_name=details[1]\n",
    "dob=details[3]\n",
    "Pan_number=details[6]\n"
   ]
  },
  {
   "cell_type": "code",
   "execution_count": 30,
   "metadata": {},
   "outputs": [
    {
     "name": "stdout",
     "output_type": "stream",
     "text": [
      "NAME : ANKITA AGARWAL\n",
      "Father's name : ANAND PRAKASH AGARWAL\n",
      "Date of Birth : 18/08/1986\n",
      "PAN NUMBER : ALBPA3140K\n"
     ]
    }
   ],
   "source": [
    "print(\"NAME :\",name)\n",
    "print(\"Father's name :\",father_name)\n",
    "print(\"Date of Birth :\",dob)\n",
    "print(\"PAN NUMBER :\",Pan_number)"
   ]
  },
  {
   "cell_type": "code",
   "execution_count": 31,
   "metadata": {},
   "outputs": [
    {
     "name": "stdout",
     "output_type": "stream",
     "text": [
      "(110, 369, 146, 72)\n"
     ]
    }
   ],
   "source": [
    "import cv2\n",
    "\n",
    "image=cv2.imread(\"pan_q.jpg\")\n",
    "im=image_resize(img,750,750)\n",
    "roi = cv2.selectROI(im)\n",
    "\n",
    "print(roi)\n",
    "\n",
    "im_cropped = im[int(roi[1]):int(roi[1]+roi[3]),int(roi[0]):int(roi[0]+roi[2])]\n",
    "\n",
    "cv2.imshow(\"Cropped Image\", im_cropped)\n",
    "cv2.waitKey(0)\n",
    "cv2.destroyAllWindows()"
   ]
  },
  {
   "cell_type": "code",
   "execution_count": 33,
   "metadata": {},
   "outputs": [],
   "source": [
    "x,y,w,h=(105, 376, 138, 56)\n",
    "sign = im[y:y+h, x:x+w]\n",
    "cv2.imshow(\"sign\", sign)\n",
    "cv2.waitKey(0)\n",
    "cv2.destroyAllWindows()"
   ]
  },
  {
   "cell_type": "code",
   "execution_count": null,
   "metadata": {},
   "outputs": [],
   "source": []
  },
  {
   "cell_type": "code",
   "execution_count": null,
   "metadata": {},
   "outputs": [],
   "source": []
  }
 ],
 "metadata": {
  "kernelspec": {
   "display_name": "Python 3",
   "language": "python",
   "name": "python3"
  },
  "language_info": {
   "codemirror_mode": {
    "name": "ipython",
    "version": 3
   },
   "file_extension": ".py",
   "mimetype": "text/x-python",
   "name": "python",
   "nbconvert_exporter": "python",
   "pygments_lexer": "ipython3",
   "version": "3.7.4"
  }
 },
 "nbformat": 4,
 "nbformat_minor": 2
}
